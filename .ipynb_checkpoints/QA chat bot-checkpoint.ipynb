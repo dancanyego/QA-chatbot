{
 "cells": [
  {
   "cell_type": "code",
   "execution_count": 1,
   "id": "55a1f7ed",
   "metadata": {},
   "outputs": [],
   "source": [
    "import pickle\n",
    "import numpy "
   ]
  },
  {
   "cell_type": "code",
   "execution_count": 2,
   "id": "c9cf124f",
   "metadata": {},
   "outputs": [],
   "source": [
    "with open('train_qa.txt','rb') as f:\n",
    "    train_data = pickle.load(f)"
   ]
  },
  {
   "cell_type": "code",
   "execution_count": 3,
   "id": "47c7b384",
   "metadata": {},
   "outputs": [],
   "source": [
    "with open('test_qa.txt','rb') as f:\n",
    "    test_data = pickle.load(f)"
   ]
  },
  {
   "cell_type": "code",
   "execution_count": 4,
   "id": "cb495fe8",
   "metadata": {},
   "outputs": [
    {
     "data": {
      "text/plain": [
       "list"
      ]
     },
     "execution_count": 4,
     "metadata": {},
     "output_type": "execute_result"
    }
   ],
   "source": [
    "type(test_data)"
   ]
  },
  {
   "cell_type": "code",
   "execution_count": 5,
   "id": "62f10ed1",
   "metadata": {},
   "outputs": [
    {
     "data": {
      "text/plain": [
       "10000"
      ]
     },
     "execution_count": 5,
     "metadata": {},
     "output_type": "execute_result"
    }
   ],
   "source": [
    "len(train_data)"
   ]
  },
  {
   "cell_type": "code",
   "execution_count": 6,
   "id": "07a786d8",
   "metadata": {},
   "outputs": [
    {
     "data": {
      "text/plain": [
       "1000"
      ]
     },
     "execution_count": 6,
     "metadata": {},
     "output_type": "execute_result"
    }
   ],
   "source": [
    "len(test_data)"
   ]
  },
  {
   "cell_type": "code",
   "execution_count": 7,
   "id": "0ef145ae",
   "metadata": {},
   "outputs": [
    {
     "data": {
      "text/plain": [
       "'Sandra went back to the hallway . Sandra moved to the office . Mary moved to the hallway . Daniel journeyed to the garden . Mary journeyed to the office . Mary went back to the hallway .'"
      ]
     },
     "execution_count": 7,
     "metadata": {},
     "output_type": "execute_result"
    }
   ],
   "source": [
    "' '.join(train_data[12][0])"
   ]
  },
  {
   "cell_type": "code",
   "execution_count": 8,
   "id": "3776b179",
   "metadata": {},
   "outputs": [
    {
     "data": {
      "text/plain": [
       "'Is Mary in the hallway ?'"
      ]
     },
     "execution_count": 8,
     "metadata": {},
     "output_type": "execute_result"
    }
   ],
   "source": [
    "' '.join(train_data[12][1])"
   ]
  },
  {
   "cell_type": "code",
   "execution_count": 9,
   "id": "5a059f27",
   "metadata": {},
   "outputs": [
    {
     "data": {
      "text/plain": [
       "'y e s'"
      ]
     },
     "execution_count": 9,
     "metadata": {},
     "output_type": "execute_result"
    }
   ],
   "source": [
    "' '.join(train_data[12][2])"
   ]
  },
  {
   "cell_type": "code",
   "execution_count": 10,
   "id": "089faddd",
   "metadata": {},
   "outputs": [],
   "source": [
    "## Setting up the vocabulary of all the words"
   ]
  },
  {
   "cell_type": "code",
   "execution_count": 11,
   "id": "a1079f00",
   "metadata": {},
   "outputs": [],
   "source": [
    "all_data = test_data + train_data"
   ]
  },
  {
   "cell_type": "code",
   "execution_count": 12,
   "id": "b43690ce",
   "metadata": {},
   "outputs": [],
   "source": [
    "vocab = set()\n",
    "\n",
    "for story,question,ans in all_data:\n",
    "    vocab = vocab.union(set(story))\n",
    "    vocab = vocab.union(set(question))"
   ]
  },
  {
   "cell_type": "code",
   "execution_count": 13,
   "id": "c62a2925",
   "metadata": {},
   "outputs": [],
   "source": [
    "vocab.add('no')"
   ]
  },
  {
   "cell_type": "code",
   "execution_count": 14,
   "id": "3a4f4c40",
   "metadata": {},
   "outputs": [],
   "source": [
    "vocab.add('yes')"
   ]
  },
  {
   "cell_type": "code",
   "execution_count": 15,
   "id": "4dd14ace",
   "metadata": {},
   "outputs": [],
   "source": [
    "vocab.add('y e s')"
   ]
  },
  {
   "cell_type": "code",
   "execution_count": 16,
   "id": "9136d449",
   "metadata": {},
   "outputs": [],
   "source": [
    "vocab_len = len(vocab) + 1"
   ]
  },
  {
   "cell_type": "code",
   "execution_count": 17,
   "id": "bd564928",
   "metadata": {},
   "outputs": [
    {
     "data": {
      "text/plain": [
       "39"
      ]
     },
     "execution_count": 17,
     "metadata": {},
     "output_type": "execute_result"
    }
   ],
   "source": [
    "vocab_len"
   ]
  },
  {
   "cell_type": "code",
   "execution_count": 18,
   "id": "6ae9ed89",
   "metadata": {},
   "outputs": [],
   "source": [
    "# Checking the longest story in data\n",
    "all_story_len = [len(data[0]) for data in all_data]"
   ]
  },
  {
   "cell_type": "code",
   "execution_count": 19,
   "id": "f8989b32",
   "metadata": {},
   "outputs": [],
   "source": [
    "max_story_len = max(all_story_len)"
   ]
  },
  {
   "cell_type": "code",
   "execution_count": 20,
   "id": "db82b58d",
   "metadata": {},
   "outputs": [],
   "source": [
    "## Maximum question Length \n",
    "all_question_len = [len(data[1]) for data in all_data]"
   ]
  },
  {
   "cell_type": "code",
   "execution_count": 21,
   "id": "af6a96a0",
   "metadata": {},
   "outputs": [],
   "source": [
    "max_question_len = max(all_question_len)"
   ]
  },
  {
   "cell_type": "code",
   "execution_count": 22,
   "id": "62807e32",
   "metadata": {},
   "outputs": [
    {
     "data": {
      "text/plain": [
       "6"
      ]
     },
     "execution_count": 22,
     "metadata": {},
     "output_type": "execute_result"
    }
   ],
   "source": [
    "max_question_len"
   ]
  },
  {
   "cell_type": "markdown",
   "id": "794d5d24",
   "metadata": {},
   "source": [
    "# How to Vectorize data "
   ]
  },
  {
   "cell_type": "raw",
   "id": "91d490b1",
   "metadata": {},
   "source": [
    "Creating a function to vectorize data for us"
   ]
  },
  {
   "cell_type": "code",
   "execution_count": 25,
   "id": "81cf5be3",
   "metadata": {},
   "outputs": [],
   "source": [
    "from keras.utils import pad_sequences\n",
    "from keras.preprocessing.text import Tokenizer"
   ]
  },
  {
   "cell_type": "code",
   "execution_count": 26,
   "id": "46428ebd",
   "metadata": {},
   "outputs": [],
   "source": [
    "tokenizer = Tokenizer(filters=[])\n",
    "tokenizer.fit_on_texts(vocab)"
   ]
  },
  {
   "cell_type": "code",
   "execution_count": 27,
   "id": "e8f2f217",
   "metadata": {},
   "outputs": [
    {
     "data": {
      "text/plain": [
       "{'back': 1,\n",
       " 'kitchen': 2,\n",
       " 'office': 3,\n",
       " 'milk': 4,\n",
       " 'travelled': 5,\n",
       " 'journeyed': 6,\n",
       " 'dropped': 7,\n",
       " 'mary': 8,\n",
       " 'picked': 9,\n",
       " 'bathroom': 10,\n",
       " 'is': 11,\n",
       " 'bedroom': 12,\n",
       " 'there': 13,\n",
       " '.': 14,\n",
       " 'the': 15,\n",
       " 'in': 16,\n",
       " 'left': 17,\n",
       " 'to': 18,\n",
       " 'football': 19,\n",
       " 'y': 20,\n",
       " 'e': 21,\n",
       " 's': 22,\n",
       " 'hallway': 23,\n",
       " 'took': 24,\n",
       " 'daniel': 25,\n",
       " 'down': 26,\n",
       " 'apple': 27,\n",
       " 'no': 28,\n",
       " 'garden': 29,\n",
       " 'went': 30,\n",
       " 'up': 31,\n",
       " 'put': 32,\n",
       " '?': 33,\n",
       " 'got': 34,\n",
       " 'yes': 35,\n",
       " 'moved': 36,\n",
       " 'grabbed': 37,\n",
       " 'discarded': 38,\n",
       " 'john': 39,\n",
       " 'sandra': 40}"
      ]
     },
     "execution_count": 27,
     "metadata": {},
     "output_type": "execute_result"
    }
   ],
   "source": [
    "tokenizer.word_index"
   ]
  },
  {
   "cell_type": "code",
   "execution_count": null,
   "id": "6aaf2b24",
   "metadata": {},
   "outputs": [],
   "source": []
  }
 ],
 "metadata": {
  "kernelspec": {
   "display_name": "Python 3 (ipykernel)",
   "language": "python",
   "name": "python3"
  },
  "language_info": {
   "codemirror_mode": {
    "name": "ipython",
    "version": 3
   },
   "file_extension": ".py",
   "mimetype": "text/x-python",
   "name": "python",
   "nbconvert_exporter": "python",
   "pygments_lexer": "ipython3",
   "version": "3.7.16"
  }
 },
 "nbformat": 4,
 "nbformat_minor": 5
}
